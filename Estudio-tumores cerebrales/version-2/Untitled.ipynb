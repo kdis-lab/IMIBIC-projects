{
 "cells": [
  {
   "cell_type": "code",
   "execution_count": 187,
   "metadata": {},
   "outputs": [],
   "source": [
    "import pandas as pd\n",
    "import numpy as np\n",
    "from mlxtend.frequent_patterns import apriori"
   ]
  },
  {
   "cell_type": "code",
   "execution_count": 200,
   "metadata": {},
   "outputs": [
    {
     "data": {
      "text/html": [
       "<div>\n",
       "<style scoped>\n",
       "    .dataframe tbody tr th:only-of-type {\n",
       "        vertical-align: middle;\n",
       "    }\n",
       "\n",
       "    .dataframe tbody tr th {\n",
       "        vertical-align: top;\n",
       "    }\n",
       "\n",
       "    .dataframe thead th {\n",
       "        text-align: right;\n",
       "    }\n",
       "</style>\n",
       "<table border=\"1\" class=\"dataframe\">\n",
       "  <thead>\n",
       "    <tr style=\"text-align: right;\">\n",
       "      <th></th>\n",
       "      <th>ID</th>\n",
       "      <th>NumberAtts</th>\n",
       "      <th>Atts</th>\n",
       "      <th>ROC</th>\n",
       "      <th>Sens</th>\n",
       "      <th>Spec</th>\n",
       "    </tr>\n",
       "  </thead>\n",
       "  <tbody>\n",
       "    <tr>\n",
       "      <th>0</th>\n",
       "      <td>1</td>\n",
       "      <td>1</td>\n",
       "      <td>MAGOH</td>\n",
       "      <td>1.0</td>\n",
       "      <td>1.00</td>\n",
       "      <td>1.0</td>\n",
       "    </tr>\n",
       "    <tr>\n",
       "      <th>1</th>\n",
       "      <td>2</td>\n",
       "      <td>2</td>\n",
       "      <td>MAGOH RBM3</td>\n",
       "      <td>1.0</td>\n",
       "      <td>1.00</td>\n",
       "      <td>1.0</td>\n",
       "    </tr>\n",
       "    <tr>\n",
       "      <th>2</th>\n",
       "      <td>3</td>\n",
       "      <td>2</td>\n",
       "      <td>MAGOH PTBP1</td>\n",
       "      <td>1.0</td>\n",
       "      <td>0.75</td>\n",
       "      <td>1.0</td>\n",
       "    </tr>\n",
       "    <tr>\n",
       "      <th>3</th>\n",
       "      <td>4</td>\n",
       "      <td>2</td>\n",
       "      <td>MAGOH RBM22</td>\n",
       "      <td>1.0</td>\n",
       "      <td>1.00</td>\n",
       "      <td>1.0</td>\n",
       "    </tr>\n",
       "    <tr>\n",
       "      <th>4</th>\n",
       "      <td>5</td>\n",
       "      <td>2</td>\n",
       "      <td>MAGOH U5</td>\n",
       "      <td>1.0</td>\n",
       "      <td>1.00</td>\n",
       "      <td>1.0</td>\n",
       "    </tr>\n",
       "  </tbody>\n",
       "</table>\n",
       "</div>"
      ],
      "text/plain": [
       "   ID  NumberAtts         Atts  ROC  Sens  Spec\n",
       "0   1           1        MAGOH  1.0  1.00   1.0\n",
       "1   2           2   MAGOH RBM3  1.0  1.00   1.0\n",
       "2   3           2  MAGOH PTBP1  1.0  0.75   1.0\n",
       "3   4           2  MAGOH RBM22  1.0  1.00   1.0\n",
       "4   5           2     MAGOH U5  1.0  1.00   1.0"
      ]
     },
     "execution_count": 200,
     "metadata": {},
     "output_type": "execute_result"
    }
   ],
   "source": [
    "method_name = \"rf\"\n",
    "\n",
    "df = pd.read_csv(\"version-2/results/{method}/datos-preproc/{method}.csv\".format(method = method_name))\n",
    "\n",
    "df.head()"
   ]
  },
  {
   "cell_type": "code",
   "execution_count": 202,
   "metadata": {},
   "outputs": [
    {
     "data": {
      "text/plain": [
       "(217, 6)"
      ]
     },
     "execution_count": 202,
     "metadata": {},
     "output_type": "execute_result"
    }
   ],
   "source": [
    "dfT = df.loc[(df[\"ROC\"]==1) & (df[\"Sens\"] ==1) & (df[\"Spec\"]==1),:]\n",
    "\n",
    "dfT.shape"
   ]
  },
  {
   "cell_type": "code",
   "execution_count": 203,
   "metadata": {},
   "outputs": [
    {
     "data": {
      "text/html": [
       "<div>\n",
       "<style scoped>\n",
       "    .dataframe tbody tr th:only-of-type {\n",
       "        vertical-align: middle;\n",
       "    }\n",
       "\n",
       "    .dataframe tbody tr th {\n",
       "        vertical-align: top;\n",
       "    }\n",
       "\n",
       "    .dataframe thead th {\n",
       "        text-align: right;\n",
       "    }\n",
       "</style>\n",
       "<table border=\"1\" class=\"dataframe\">\n",
       "  <thead>\n",
       "    <tr style=\"text-align: right;\">\n",
       "      <th></th>\n",
       "      <th>ID</th>\n",
       "      <th>NumberAtts</th>\n",
       "      <th>Atts</th>\n",
       "      <th>ROC</th>\n",
       "      <th>Sens</th>\n",
       "      <th>Spec</th>\n",
       "    </tr>\n",
       "  </thead>\n",
       "  <tbody>\n",
       "    <tr>\n",
       "      <th>0</th>\n",
       "      <td>1</td>\n",
       "      <td>1</td>\n",
       "      <td>MAGOH</td>\n",
       "      <td>1.0</td>\n",
       "      <td>1.0</td>\n",
       "      <td>1.0</td>\n",
       "    </tr>\n",
       "    <tr>\n",
       "      <th>1</th>\n",
       "      <td>2</td>\n",
       "      <td>2</td>\n",
       "      <td>MAGOH RBM3</td>\n",
       "      <td>1.0</td>\n",
       "      <td>1.0</td>\n",
       "      <td>1.0</td>\n",
       "    </tr>\n",
       "    <tr>\n",
       "      <th>3</th>\n",
       "      <td>4</td>\n",
       "      <td>2</td>\n",
       "      <td>MAGOH RBM22</td>\n",
       "      <td>1.0</td>\n",
       "      <td>1.0</td>\n",
       "      <td>1.0</td>\n",
       "    </tr>\n",
       "    <tr>\n",
       "      <th>4</th>\n",
       "      <td>5</td>\n",
       "      <td>2</td>\n",
       "      <td>MAGOH U5</td>\n",
       "      <td>1.0</td>\n",
       "      <td>1.0</td>\n",
       "      <td>1.0</td>\n",
       "    </tr>\n",
       "    <tr>\n",
       "      <th>5</th>\n",
       "      <td>6</td>\n",
       "      <td>2</td>\n",
       "      <td>MAGOH SC35</td>\n",
       "      <td>1.0</td>\n",
       "      <td>1.0</td>\n",
       "      <td>1.0</td>\n",
       "    </tr>\n",
       "  </tbody>\n",
       "</table>\n",
       "</div>"
      ],
      "text/plain": [
       "   ID  NumberAtts         Atts  ROC  Sens  Spec\n",
       "0   1           1        MAGOH  1.0   1.0   1.0\n",
       "1   2           2   MAGOH RBM3  1.0   1.0   1.0\n",
       "3   4           2  MAGOH RBM22  1.0   1.0   1.0\n",
       "4   5           2     MAGOH U5  1.0   1.0   1.0\n",
       "5   6           2   MAGOH SC35  1.0   1.0   1.0"
      ]
     },
     "execution_count": 203,
     "metadata": {},
     "output_type": "execute_result"
    }
   ],
   "source": []
  },
  {
   "cell_type": "code",
   "execution_count": 191,
   "metadata": {},
   "outputs": [],
   "source": [
    "all_patterns = set()"
   ]
  },
  {
   "cell_type": "code",
   "execution_count": 192,
   "metadata": {},
   "outputs": [
    {
     "data": {
      "text/plain": [
       "0      None\n",
       "1      None\n",
       "3      None\n",
       "4      None\n",
       "5      None\n",
       "6      None\n",
       "8      None\n",
       "9      None\n",
       "10     None\n",
       "12     None\n",
       "14     None\n",
       "15     None\n",
       "16     None\n",
       "17     None\n",
       "18     None\n",
       "19     None\n",
       "20     None\n",
       "21     None\n",
       "22     None\n",
       "23     None\n",
       "24     None\n",
       "25     None\n",
       "26     None\n",
       "27     None\n",
       "28     None\n",
       "29     None\n",
       "30     None\n",
       "31     None\n",
       "32     None\n",
       "33     None\n",
       "       ... \n",
       "236    None\n",
       "237    None\n",
       "238    None\n",
       "239    None\n",
       "240    None\n",
       "241    None\n",
       "242    None\n",
       "243    None\n",
       "244    None\n",
       "245    None\n",
       "246    None\n",
       "247    None\n",
       "248    None\n",
       "286    None\n",
       "293    None\n",
       "294    None\n",
       "295    None\n",
       "298    None\n",
       "301    None\n",
       "303    None\n",
       "305    None\n",
       "306    None\n",
       "309    None\n",
       "315    None\n",
       "316    None\n",
       "318    None\n",
       "320    None\n",
       "325    None\n",
       "327    None\n",
       "329    None\n",
       "Length: 217, dtype: object"
      ]
     },
     "execution_count": 192,
     "metadata": {},
     "output_type": "execute_result"
    }
   ],
   "source": [
    "dfT.apply(lambda row: all_patterns.update(row[\"Atts\"].split(\" \")), axis=1)"
   ]
  },
  {
   "cell_type": "code",
   "execution_count": 193,
   "metadata": {},
   "outputs": [
    {
     "data": {
      "text/plain": [
       "array(['RBM3', 'FBP11', 'TIA1', 'U11', 'U6ATAC', 'U2AF1', 'U6', 'PTBP1',\n",
       "       'ESRP2', 'SRSF5', 'CUGBP', 'CA150', 'SRM160', 'CELF4', 'RBM22',\n",
       "       'SC35', 'MAGOH', 'U5', 'U2', 'SAM68TV1', 'ESRP1', 'RBM45', 'SRSF3',\n",
       "       'SRSF10', 'SRSF1', 'SF3BTV1', 'PRP8', 'U1', 'SKIP', 'U2AF2', 'PSF',\n",
       "       'SND1', 'U12', 'NOVA1', 'SF3BTV2', 'U4ATAC', 'SRSF4', 'RBM17',\n",
       "       'U4', 'nSR100', 'SRSF9', 'TRA2A', 'SRSF6'], dtype='<U8')"
      ]
     },
     "execution_count": 193,
     "metadata": {},
     "output_type": "execute_result"
    }
   ],
   "source": [
    "all_patterns = np.array(list(all_patterns))\n",
    "\n",
    "all_patterns"
   ]
  },
  {
   "cell_type": "code",
   "execution_count": 194,
   "metadata": {},
   "outputs": [],
   "source": [
    "a= dfT.apply(lambda row: np.isin(all_patterns, row[\"Atts\"].split(\" \")).tolist(), axis=1)"
   ]
  },
  {
   "cell_type": "code",
   "execution_count": 195,
   "metadata": {},
   "outputs": [],
   "source": [
    "newdf = pd.DataFrame(a.values.tolist(), columns=all_patterns)"
   ]
  },
  {
   "cell_type": "code",
   "execution_count": 196,
   "metadata": {},
   "outputs": [],
   "source": [
    "newdf.to_csv(\"version-2/results/{method}/datos-preproc/{method}2.csv\".format(method = method_name), index=False)"
   ]
  },
  {
   "cell_type": "code",
   "execution_count": 197,
   "metadata": {},
   "outputs": [],
   "source": [
    "frequent_itemsets = apriori(\n",
    "    newdf, min_support= 0.01, use_colnames=True)"
   ]
  },
  {
   "cell_type": "code",
   "execution_count": 198,
   "metadata": {},
   "outputs": [],
   "source": [
    "frequent_itemsets.sort_values(\n",
    "    \"support\",\n",
    "    ascending= False,\n",
    "    inplace=True)"
   ]
  },
  {
   "cell_type": "code",
   "execution_count": 199,
   "metadata": {},
   "outputs": [],
   "source": [
    "frequent_itemsets.to_csv(\"version-2/results/{method}/datos-preproc/frequent_itemsets.csv\".format(method = method_name), index= False)"
   ]
  },
  {
   "cell_type": "code",
   "execution_count": null,
   "metadata": {},
   "outputs": [],
   "source": []
  }
 ],
 "metadata": {
  "kernelspec": {
   "display_name": "Python 3",
   "language": "python",
   "name": "python3"
  },
  "language_info": {
   "codemirror_mode": {
    "name": "ipython",
    "version": 3
   },
   "file_extension": ".py",
   "mimetype": "text/x-python",
   "name": "python",
   "nbconvert_exporter": "python",
   "pygments_lexer": "ipython3",
   "version": "3.7.1"
  }
 },
 "nbformat": 4,
 "nbformat_minor": 2
}
