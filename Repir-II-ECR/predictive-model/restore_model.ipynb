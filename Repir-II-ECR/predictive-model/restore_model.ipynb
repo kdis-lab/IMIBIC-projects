{
 "cells": [
  {
   "cell_type": "code",
   "execution_count": 10,
   "metadata": {},
   "outputs": [],
   "source": [
    "'''Restore a character-level sequence to sequence model from disk and use it\n",
    "to generate predictions.\n",
    "This script loads the s2s.h5 model saved by lstm_seq2seq.py and generates\n",
    "sequences from it.  It assumes that no changes have been made (for example:\n",
    "latent_dim is unchanged, and the input data and model architecture are unchanged).\n",
    "See lstm_seq2seq.py for more details on the model architecture and how\n",
    "it is trained.\n",
    "'''\n",
    "\n",
    "from __future__ import print_function\n",
    "\n",
    "from tensorflow.keras.models import Model, load_model\n",
    "from tensorflow.keras.layers import Input\n",
    "import numpy as np\n",
    "from utils import *\n",
    "from sklearn.preprocessing import StandardScaler"
   ]
  },
  {
   "cell_type": "code",
   "execution_count": 11,
   "metadata": {},
   "outputs": [],
   "source": [
    "\"\"\" Inference model\n",
    "\n",
    "# 1) encode input and retrieve initial decoder state\n",
    "# 2) run one step of decoder with this initial state and the last known FG value.\n",
    "# 3) The output of the decoder will be the next target FG. Repeat with the \n",
    "current target FG and current states\"\"\" \n",
    "\n",
    "def load_inference_model(path_name, print_summary = False):\n",
    "    \n",
    "    latent_dim = 256  # Latent dimensionality of the encoding space.\n",
    "    \n",
    "    # Restore the model and construct the encoder and decoder.\n",
    "    model = load_model(path_name)\n",
    "\n",
    "    #Create encoder model\n",
    "    encoder_inputs = model.input[0]   # input_encoder\n",
    "    encoder_outputs, state_h_enc, state_c_enc = model.layers[2].output # encoder_layer\n",
    "    encoder_states = [state_h_enc, state_c_enc]\n",
    "\n",
    "    encoder_model = Model(encoder_inputs, encoder_states)\n",
    "    \n",
    "    if print_summary:\n",
    "        encoder_model.summary()\n",
    "\n",
    "    # Create decoder model\n",
    "    decoder_inputs = model.input[1]   # input_decoder\n",
    "    decoder_state_input_h = Input(shape=(latent_dim,), name='decoder_input_h')\n",
    "    decoder_state_input_c = Input(shape=(latent_dim,), name='decoder_input_c')\n",
    "    decoder_states_inputs = [decoder_state_input_h, decoder_state_input_c]\n",
    "\n",
    "    decoder_lstm = model.layers[3] # decoder_layer\n",
    "    decoder_outputs, state_h_dec, state_c_dec = decoder_lstm(\n",
    "        decoder_inputs, initial_state=decoder_states_inputs)\n",
    "\n",
    "    decoder_states = [state_h_dec, state_c_dec]\n",
    "\n",
    "    decoder_dense = model.layers[4] # Dense layer\n",
    "\n",
    "    decoder_outputs = decoder_dense(decoder_outputs)\n",
    "\n",
    "    decoder_model = Model([decoder_inputs] + decoder_states_inputs, [decoder_outputs] + decoder_states)\n",
    "    \n",
    "    if print_summary:\n",
    "        decoder_model.summary()\n",
    "    \n",
    "    return encoder_model, decoder_model"
   ]
  },
  {
   "cell_type": "code",
   "execution_count": 12,
   "metadata": {},
   "outputs": [],
   "source": [
    "def predict_FGs(encoder_model, decoder_model, input_data, last_known_FG, maxi = 10):\n",
    "    \n",
    "    # Encode the input as state vectors.\n",
    "    states_value = encoder_model.predict(input_data)\n",
    "        \n",
    "    # Generate empty target sequence of length 1.\n",
    "    target_seq = np.zeros((1, 1, 1))\n",
    "    \n",
    "    # Populate the first FG of target sequence with the last known FG.\n",
    "    target_seq[0, 0, 0] = last_known_FG\n",
    "    \n",
    "    predicted_FGs = np.empty((maxi))\n",
    "    \n",
    "    i= 0\n",
    "    \n",
    "    while i < maxi:\n",
    "        \n",
    "        output_tokens, h, c = decoder_model.predict(\n",
    "            [target_seq] + states_value)\n",
    "\n",
    "        predicted_FG = output_tokens.ravel()[0]\n",
    "        \n",
    "        # Sample a token\n",
    "        predicted_FGs[i] = predicted_FG\n",
    "\n",
    "        # Update the target sequence.\n",
    "        target_seq = np.zeros((1, 1, 1))\n",
    "        target_seq[0, 0, 0] = predicted_FG\n",
    "\n",
    "        # Update states\n",
    "        states_value = [h, c]\n",
    "        \n",
    "        i+=1\n",
    "\n",
    "    return predicted_FGs"
   ]
  },
  {
   "cell_type": "code",
   "execution_count": 17,
   "metadata": {},
   "outputs": [],
   "source": [
    "# Example of inference\n",
    "\n",
    "imputation_method= \"mean-average_before_after_values\"\n",
    "output_path= \"model-results/\"\n",
    "\n",
    "dataset = pd.read_csv(\n",
    "        \"datasets/datos-demograficos-visitas-tratamientos-missing-imputation-{method}-allnumerics.csv\".format(\n",
    "            method=imputation_method))\n",
    "\n",
    "dataset_original = pd.read_csv(\n",
    "        \"datasets/datos-demograficos-visitas-tratamientos-missing-imputation-{method}.csv\".format(\n",
    "            method=imputation_method))\n",
    "\n",
    "num_features = dataset.shape[1] - 1  # Id is not considered\n",
    "\n",
    "scaler = StandardScaler()\n",
    "scaler.fit(dataset_original[\"Filtrado_glomerular\"].values.reshape(-1,1))\n",
    "\n",
    "encoder_input_data, decoder_input_data, decoder_target_data, buckets = transform_dataset_different_timesteps(\n",
    "        dataset)\n",
    "\n",
    "# Loading the model\n",
    "encoder_model, decoder_model = load_inference_model(output_path + \"{method}-Fold-0.best.hdf5\".format(method= imputation_method))"
   ]
  },
  {
   "cell_type": "code",
   "execution_count": 28,
   "metadata": {},
   "outputs": [
    {
     "data": {
      "text/plain": [
       "array([13.23412043, 10.92374239, 10.9780811 , 10.92499236, 10.79870438,\n",
       "       10.58165195])"
      ]
     },
     "execution_count": 28,
     "metadata": {},
     "output_type": "execute_result"
    }
   ],
   "source": [
    "i = 11\n",
    "\n",
    "visitas = encoder_input_data[i]\n",
    "dec_x = decoder_input_data[i]\n",
    "\n",
    "timesteps_visitas = int(len(visitas) / num_features)\n",
    "last_knownFG = dec_x[0]\n",
    "\n",
    "visitas = np.array(visitas).reshape((1, timesteps_visitas, num_features))\n",
    "\n",
    "predictions = predict_FGs(encoder_model, decoder_model, visitas, last_knownFG, 6)\n",
    "\n",
    "scaler.inverse_transform(predictions)"
   ]
  },
  {
   "cell_type": "code",
   "execution_count": 29,
   "metadata": {},
   "outputs": [
    {
     "data": {
      "text/plain": [
       "(1, 2, 70)"
      ]
     },
     "execution_count": 29,
     "metadata": {},
     "output_type": "execute_result"
    }
   ],
   "source": [
    "visitas.shape"
   ]
  },
  {
   "cell_type": "code",
   "execution_count": null,
   "metadata": {},
   "outputs": [],
   "source": []
  }
 ],
 "metadata": {
  "kernelspec": {
   "display_name": "Python 3",
   "language": "python",
   "name": "python3"
  },
  "language_info": {
   "codemirror_mode": {
    "name": "ipython",
    "version": 3
   },
   "file_extension": ".py",
   "mimetype": "text/x-python",
   "name": "python",
   "nbconvert_exporter": "python",
   "pygments_lexer": "ipython3",
   "version": "3.6.8"
  }
 },
 "nbformat": 4,
 "nbformat_minor": 2
}
