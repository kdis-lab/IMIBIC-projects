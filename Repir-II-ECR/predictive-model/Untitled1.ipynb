{
 "cells": [
  {
   "cell_type": "code",
   "execution_count": 2,
   "metadata": {},
   "outputs": [],
   "source": [
    "import pandas as pd\n",
    "from matplotlib import pyplot\n",
    "import matplotlib.cm as cm\n",
    "import numpy as np"
   ]
  },
  {
   "cell_type": "code",
   "execution_count": 4,
   "metadata": {},
   "outputs": [],
   "source": [
    "df = pd.read_csv(\"model-results/mean-average_before_after_values-CV-feature-importance.csv\")"
   ]
  },
  {
   "cell_type": "code",
   "execution_count": 5,
   "metadata": {},
   "outputs": [
    {
     "data": {
      "text/plain": [
       "array([[ 2.55511093,  7.91818576,  7.31988617,  4.73945819,  2.27712269,\n",
       "         4.99822722,  2.59707825,  1.21714304,  2.04776305,  1.28484317,\n",
       "         2.08847398,  4.58446012,  4.38257858,  0.79515251,  2.39684411,\n",
       "         6.76101811,  1.20602267,  1.61433863,  3.11860451,  2.18473113,\n",
       "         5.68890326,  6.82890181,  1.93562369,  2.56142026,  8.0827455 ,\n",
       "         5.73459845,  6.79625214,  3.89538086,  0.16162511,  0.80848264,\n",
       "         0.05127698,  0.97973658,  1.96535375,  1.90881588,  0.06238011,\n",
       "         1.16144119,  0.53622962,  1.01071423,  0.19601558,  0.61039671,\n",
       "         0.53610349,  0.11036138,  1.62248995,  0.20533041,  1.43489406,\n",
       "         0.296378  ,  0.46967699,  1.02763498,  0.56675559,  0.77110569,\n",
       "         3.0407782 ,  2.17238448,  0.        ,  0.        ,  0.        ,\n",
       "         0.        ,  0.        ,  0.        ,  0.        ,  0.        ,\n",
       "         0.        ,  0.        ,  0.        ,  0.31899427,  0.48279675,\n",
       "         1.22306657,  1.05175981,  1.90064428,  2.11041619, 30.28853697]])"
      ]
     },
     "execution_count": 5,
     "metadata": {},
     "output_type": "execute_result"
    }
   ],
   "source": [
    "df.values"
   ]
  },
  {
   "cell_type": "code",
   "execution_count": 11,
   "metadata": {},
   "outputs": [],
   "source": [
    "maximum = np.max(df.values)\n",
    "minimum = np.min(df.values)"
   ]
  },
  {
   "cell_type": "code",
   "execution_count": 12,
   "metadata": {},
   "outputs": [
    {
     "data": {
      "text/plain": [
       "30.288536974333248"
      ]
     },
     "execution_count": 12,
     "metadata": {},
     "output_type": "execute_result"
    }
   ],
   "source": [
    "maximum"
   ]
  },
  {
   "cell_type": "code",
   "execution_count": 13,
   "metadata": {},
   "outputs": [
    {
     "data": {
      "text/plain": [
       "0.0"
      ]
     },
     "execution_count": 13,
     "metadata": {},
     "output_type": "execute_result"
    }
   ],
   "source": [
    "minimum"
   ]
  },
  {
   "cell_type": "code",
   "execution_count": 34,
   "metadata": {},
   "outputs": [
    {
     "data": {
      "text/plain": [
       "array([[1.00000000e+00, 2.55842778e-01, 1.28999217e-01, 1.00000000e+00],\n",
       "       [9.82352941e-01, 7.26433574e-01, 3.95451207e-01, 1.00000000e+00],\n",
       "       [1.00000000e+00, 6.82748855e-01, 3.66978792e-01, 1.00000000e+00],\n",
       "       [1.00000000e+00, 4.73093557e-01, 2.43913720e-01, 1.00000000e+00],\n",
       "       [1.00000000e+00, 2.31947641e-01, 1.16772702e-01, 1.00000000e+00],\n",
       "       [1.00000000e+00, 4.94655843e-01, 2.55842778e-01, 1.00000000e+00],\n",
       "       [1.00000000e+00, 2.55842778e-01, 1.28999217e-01, 1.00000000e+00],\n",
       "       [1.00000000e+00, 1.22888291e-01, 6.15609061e-02, 1.00000000e+00],\n",
       "       [1.00000000e+00, 2.07911691e-01, 1.04528463e-01, 1.00000000e+00],\n",
       "       [1.00000000e+00, 1.22888291e-01, 6.15609061e-02, 1.00000000e+00],\n",
       "       [1.00000000e+00, 2.07911691e-01, 1.04528463e-01, 1.00000000e+00],\n",
       "       [1.00000000e+00, 4.51244057e-01, 2.31947641e-01, 1.00000000e+00],\n",
       "       [1.00000000e+00, 4.40215741e-01, 2.25951287e-01, 1.00000000e+00],\n",
       "       [1.00000000e+00, 7.38525275e-02, 3.69514994e-02, 1.00000000e+00],\n",
       "       [1.00000000e+00, 2.43913720e-01, 1.22888291e-01, 1.00000000e+00],\n",
       "       [1.00000000e+00, 6.45928062e-01, 3.43948919e-01, 1.00000000e+00],\n",
       "       [1.00000000e+00, 1.22888291e-01, 6.15609061e-02, 1.00000000e+00],\n",
       "       [1.00000000e+00, 1.59475791e-01, 7.99942512e-02, 1.00000000e+00],\n",
       "       [1.00000000e+00, 3.14869589e-01, 1.59475791e-01, 1.00000000e+00],\n",
       "       [1.00000000e+00, 2.19946358e-01, 1.10652682e-01, 1.00000000e+00],\n",
       "       [1.00000000e+00, 5.57489439e-01, 2.91389747e-01, 1.00000000e+00],\n",
       "       [1.00000000e+00, 6.45928062e-01, 3.43948919e-01, 1.00000000e+00],\n",
       "       [1.00000000e+00, 1.95845467e-01, 9.84002783e-02, 1.00000000e+00],\n",
       "       [1.00000000e+00, 2.55842778e-01, 1.28999217e-01, 1.00000000e+00],\n",
       "       [9.66666667e-01, 7.43144825e-01, 4.06736643e-01, 1.00000000e+00],\n",
       "       [1.00000000e+00, 5.57489439e-01, 2.91389747e-01, 1.00000000e+00],\n",
       "       [1.00000000e+00, 6.45928062e-01, 3.43948919e-01, 1.00000000e+00],\n",
       "       [1.00000000e+00, 3.84105749e-01, 1.95845467e-01, 1.00000000e+00],\n",
       "       [1.00000000e+00, 1.23196595e-02, 6.15994664e-03, 1.00000000e+00],\n",
       "       [1.00000000e+00, 7.38525275e-02, 3.69514994e-02, 1.00000000e+00],\n",
       "       [1.00000000e+00, 1.22464680e-16, 6.12323400e-17, 1.00000000e+00],\n",
       "       [1.00000000e+00, 9.84002783e-02, 4.92599411e-02, 1.00000000e+00],\n",
       "       [1.00000000e+00, 1.95845467e-01, 9.84002783e-02, 1.00000000e+00],\n",
       "       [1.00000000e+00, 1.95845467e-01, 9.84002783e-02, 1.00000000e+00],\n",
       "       [1.00000000e+00, 1.22464680e-16, 6.12323400e-17, 1.00000000e+00],\n",
       "       [1.00000000e+00, 1.10652682e-01, 5.54114749e-02, 1.00000000e+00],\n",
       "       [1.00000000e+00, 4.92599411e-02, 2.46374492e-02, 1.00000000e+00],\n",
       "       [1.00000000e+00, 9.84002783e-02, 4.92599411e-02, 1.00000000e+00],\n",
       "       [1.00000000e+00, 1.23196595e-02, 6.15994664e-03, 1.00000000e+00],\n",
       "       [1.00000000e+00, 6.15609061e-02, 3.07950586e-02, 1.00000000e+00],\n",
       "       [1.00000000e+00, 4.92599411e-02, 2.46374492e-02, 1.00000000e+00],\n",
       "       [1.00000000e+00, 1.22464680e-16, 6.12323400e-17, 1.00000000e+00],\n",
       "       [1.00000000e+00, 1.59475791e-01, 7.99942512e-02, 1.00000000e+00],\n",
       "       [1.00000000e+00, 1.23196595e-02, 6.15994664e-03, 1.00000000e+00],\n",
       "       [1.00000000e+00, 1.47301698e-01, 7.38525275e-02, 1.00000000e+00],\n",
       "       [1.00000000e+00, 2.46374492e-02, 1.23196595e-02, 1.00000000e+00],\n",
       "       [1.00000000e+00, 3.69514994e-02, 1.84789050e-02, 1.00000000e+00],\n",
       "       [1.00000000e+00, 9.84002783e-02, 4.92599411e-02, 1.00000000e+00],\n",
       "       [1.00000000e+00, 4.92599411e-02, 2.46374492e-02, 1.00000000e+00],\n",
       "       [1.00000000e+00, 7.38525275e-02, 3.69514994e-02, 1.00000000e+00],\n",
       "       [1.00000000e+00, 3.03152674e-01, 1.53391655e-01, 1.00000000e+00],\n",
       "       [1.00000000e+00, 2.19946358e-01, 1.10652682e-01, 1.00000000e+00],\n",
       "       [1.00000000e+00, 1.22464680e-16, 6.12323400e-17, 1.00000000e+00],\n",
       "       [1.00000000e+00, 1.22464680e-16, 6.12323400e-17, 1.00000000e+00],\n",
       "       [1.00000000e+00, 1.22464680e-16, 6.12323400e-17, 1.00000000e+00],\n",
       "       [1.00000000e+00, 1.22464680e-16, 6.12323400e-17, 1.00000000e+00],\n",
       "       [1.00000000e+00, 1.22464680e-16, 6.12323400e-17, 1.00000000e+00],\n",
       "       [1.00000000e+00, 1.22464680e-16, 6.12323400e-17, 1.00000000e+00],\n",
       "       [1.00000000e+00, 1.22464680e-16, 6.12323400e-17, 1.00000000e+00],\n",
       "       [1.00000000e+00, 1.22464680e-16, 6.12323400e-17, 1.00000000e+00],\n",
       "       [1.00000000e+00, 1.22464680e-16, 6.12323400e-17, 1.00000000e+00],\n",
       "       [1.00000000e+00, 1.22464680e-16, 6.12323400e-17, 1.00000000e+00],\n",
       "       [1.00000000e+00, 1.22464680e-16, 6.12323400e-17, 1.00000000e+00],\n",
       "       [1.00000000e+00, 2.46374492e-02, 1.23196595e-02, 1.00000000e+00],\n",
       "       [1.00000000e+00, 4.92599411e-02, 2.46374492e-02, 1.00000000e+00],\n",
       "       [1.00000000e+00, 1.22888291e-01, 6.15609061e-02, 1.00000000e+00],\n",
       "       [1.00000000e+00, 9.84002783e-02, 4.92599411e-02, 1.00000000e+00],\n",
       "       [1.00000000e+00, 1.95845467e-01, 9.84002783e-02, 1.00000000e+00],\n",
       "       [1.00000000e+00, 2.07911691e-01, 1.04528463e-01, 1.00000000e+00],\n",
       "       [5.00000000e-01, 0.00000000e+00, 1.00000000e+00, 1.00000000e+00]])"
      ]
     },
     "execution_count": 34,
     "metadata": {},
     "output_type": "execute_result"
    }
   ],
   "source": [
    "colors = cm.rainbow(((maximum-df.values[0,:])/(maximum-minimum)).tolist())\n",
    "colors"
   ]
  },
  {
   "cell_type": "code",
   "execution_count": 21,
   "metadata": {},
   "outputs": [
    {
     "data": {
      "text/plain": [
       "<Figure size 1008x1008 with 0 Axes>"
      ]
     },
     "execution_count": 21,
     "metadata": {},
     "output_type": "execute_result"
    },
    {
     "data": {
      "text/plain": [
       "<Figure size 1008x1008 with 0 Axes>"
      ]
     },
     "metadata": {},
     "output_type": "display_data"
    }
   ],
   "source": [
    "pyplot.figure(figsize=(14, 14))"
   ]
  },
  {
   "cell_type": "code",
   "execution_count": 38,
   "metadata": {},
   "outputs": [
    {
     "data": {
      "text/plain": [
       "(70,)"
      ]
     },
     "execution_count": 38,
     "metadata": {},
     "output_type": "execute_result"
    }
   ],
   "source": [
    "df.values[0,:].shape"
   ]
  },
  {
   "cell_type": "code",
   "execution_count": 39,
   "metadata": {},
   "outputs": [
    {
     "data": {
      "text/plain": [
       "([<matplotlib.axis.XTick at 0x7f1f2bf3cb00>,\n",
       "  <matplotlib.axis.XTick at 0x7f1f2c008b38>,\n",
       "  <matplotlib.axis.XTick at 0x7f1f2c0081d0>,\n",
       "  <matplotlib.axis.XTick at 0x7f1f2b5a2358>,\n",
       "  <matplotlib.axis.XTick at 0x7f1f2b5a27f0>,\n",
       "  <matplotlib.axis.XTick at 0x7f1f2b5a2cc0>,\n",
       "  <matplotlib.axis.XTick at 0x7f1f2b5aa1d0>,\n",
       "  <matplotlib.axis.XTick at 0x7f1f2b5aa6a0>,\n",
       "  <matplotlib.axis.XTick at 0x7f1f2b5a2d68>,\n",
       "  <matplotlib.axis.XTick at 0x7f1f2b5aa5f8>,\n",
       "  <matplotlib.axis.XTick at 0x7f1f2b5aae80>,\n",
       "  <matplotlib.axis.XTick at 0x7f1f2b5af390>,\n",
       "  <matplotlib.axis.XTick at 0x7f1f2b5af860>,\n",
       "  <matplotlib.axis.XTick at 0x7f1f2b5afd30>,\n",
       "  <matplotlib.axis.XTick at 0x7f1f2b5b4240>,\n",
       "  <matplotlib.axis.XTick at 0x7f1f2b5b4710>,\n",
       "  <matplotlib.axis.XTick at 0x7f1f2b5b4be0>,\n",
       "  <matplotlib.axis.XTick at 0x7f1f2b5b4b38>,\n",
       "  <matplotlib.axis.XTick at 0x7f1f2b5afe10>,\n",
       "  <matplotlib.axis.XTick at 0x7f1f2b5aacf8>,\n",
       "  <matplotlib.axis.XTick at 0x7f1f2b5b9470>,\n",
       "  <matplotlib.axis.XTick at 0x7f1f2b5b9940>,\n",
       "  <matplotlib.axis.XTick at 0x7f1f2b5b9e10>,\n",
       "  <matplotlib.axis.XTick at 0x7f1f2b5bd320>,\n",
       "  <matplotlib.axis.XTick at 0x7f1f2b5bd7f0>,\n",
       "  <matplotlib.axis.XTick at 0x7f1f2b5bdcc0>,\n",
       "  <matplotlib.axis.XTick at 0x7f1f2b5c31d0>,\n",
       "  <matplotlib.axis.XTick at 0x7f1f2b5bdd68>,\n",
       "  <matplotlib.axis.XTick at 0x7f1f2b5b97b8>,\n",
       "  <matplotlib.axis.XTick at 0x7f1f2b5c3400>,\n",
       "  <matplotlib.axis.XTick at 0x7f1f2b5c3940>,\n",
       "  <matplotlib.axis.XTick at 0x7f1f2b5c3e10>,\n",
       "  <matplotlib.axis.XTick at 0x7f1f2b5ca320>,\n",
       "  <matplotlib.axis.XTick at 0x7f1f2b5ca7f0>,\n",
       "  <matplotlib.axis.XTick at 0x7f1f2b5cacc0>,\n",
       "  <matplotlib.axis.XTick at 0x7f1f2b5cf1d0>,\n",
       "  <matplotlib.axis.XTick at 0x7f1f2b5cf6a0>,\n",
       "  <matplotlib.axis.XTick at 0x7f1f2b5ca668>,\n",
       "  <matplotlib.axis.XTick at 0x7f1f2b5c3588>,\n",
       "  <matplotlib.axis.XTick at 0x7f1f2b5cf940>,\n",
       "  <matplotlib.axis.XTick at 0x7f1f2b5cfda0>,\n",
       "  <matplotlib.axis.XTick at 0x7f1f2b5d52b0>,\n",
       "  <matplotlib.axis.XTick at 0x7f1f2b5d5780>,\n",
       "  <matplotlib.axis.XTick at 0x7f1f2b5d5c50>,\n",
       "  <matplotlib.axis.XTick at 0x7f1f2b5da198>,\n",
       "  <matplotlib.axis.XTick at 0x7f1f2b5da630>,\n",
       "  <matplotlib.axis.XTick at 0x7f1f2b5d5828>,\n",
       "  <matplotlib.axis.XTick at 0x7f1f2b5cfc18>,\n",
       "  <matplotlib.axis.XTick at 0x7f1f2b5ca470>,\n",
       "  <matplotlib.axis.XTick at 0x7f1f2b5dada0>,\n",
       "  <matplotlib.axis.XTick at 0x7f1f2b5daf60>,\n",
       "  <matplotlib.axis.XTick at 0x7f1f2b55e470>,\n",
       "  <matplotlib.axis.XTick at 0x7f1f2b55e940>,\n",
       "  <matplotlib.axis.XTick at 0x7f1f2b55ee10>,\n",
       "  <matplotlib.axis.XTick at 0x7f1f2b563320>,\n",
       "  <matplotlib.axis.XTick at 0x7f1f2b5637f0>,\n",
       "  <matplotlib.axis.XTick at 0x7f1f2c394630>,\n",
       "  <matplotlib.axis.XTick at 0x7f1f2d01f9b0>,\n",
       "  <matplotlib.axis.XTick at 0x7f1f2c267a90>,\n",
       "  <matplotlib.axis.XTick at 0x7f1f2d024710>,\n",
       "  <matplotlib.axis.XTick at 0x7f1f2cfd1ef0>,\n",
       "  <matplotlib.axis.XTick at 0x7f1f2b5b90b8>,\n",
       "  <matplotlib.axis.XTick at 0x7f1f2b5dabe0>,\n",
       "  <matplotlib.axis.XTick at 0x7f1f2c72d438>,\n",
       "  <matplotlib.axis.XTick at 0x7f1f2c72d4e0>,\n",
       "  <matplotlib.axis.XTick at 0x7f1f2d024d68>,\n",
       "  <matplotlib.axis.XTick at 0x7f1f2d0162e8>,\n",
       "  <matplotlib.axis.XTick at 0x7f1f2d016630>,\n",
       "  <matplotlib.axis.XTick at 0x7f1f2d00c208>,\n",
       "  <matplotlib.axis.XTick at 0x7f1f2d00cc18>],\n",
       " <a list of 70 Text xticklabel objects>)"
      ]
     },
     "execution_count": 39,
     "metadata": {},
     "output_type": "execute_result"
    },
    {
     "data": {
      "image/png": "[encoded data removed]",
      "text/plain": [
       "<Figure size 432x288 with 1 Axes>"
      ]
     },
     "metadata": {
      "needs_background": "light"
     },
     "output_type": "display_data"
    }
   ],
   "source": [
    "pyplot.bar(np.arange(df.values[0,:].size), df.values[0,:], color= colors)\n",
    "pyplot.xticks(np.arange(df.values.size), df.columns.values, rotation=60, ha='right')"
   ]
  },
  {
   "cell_type": "code",
   "execution_count": 4,
   "metadata": {},
   "outputs": [],
   "source": [
    "df = pd.DataFrame({'num_legs': [2, 4, 8, 0],\n",
    "                   'num_wings': [2, 0, 0, 0],\n",
    "                    'num_specimen_seen': [10, 2, 1, 8]},index=['falcon', 'dog', 'spider', 'fish'])"
   ]
  },
  {
   "cell_type": "code",
   "execution_count": 5,
   "metadata": {},
   "outputs": [
    {
     "data": {
      "text/html": [
       "<div>\n",
       "<style scoped>\n",
       "    .dataframe tbody tr th:only-of-type {\n",
       "        vertical-align: middle;\n",
       "    }\n",
       "\n",
       "    .dataframe tbody tr th {\n",
       "        vertical-align: top;\n",
       "    }\n",
       "\n",
       "    .dataframe thead th {\n",
       "        text-align: right;\n",
       "    }\n",
       "</style>\n",
       "<table border=\"1\" class=\"dataframe\">\n",
       "  <thead>\n",
       "    <tr style=\"text-align: right;\">\n",
       "      <th></th>\n",
       "      <th>num_legs</th>\n",
       "      <th>num_wings</th>\n",
       "      <th>num_specimen_seen</th>\n",
       "    </tr>\n",
       "  </thead>\n",
       "  <tbody>\n",
       "    <tr>\n",
       "      <th>falcon</th>\n",
       "      <td>2</td>\n",
       "      <td>2</td>\n",
       "      <td>10</td>\n",
       "    </tr>\n",
       "    <tr>\n",
       "      <th>dog</th>\n",
       "      <td>4</td>\n",
       "      <td>0</td>\n",
       "      <td>2</td>\n",
       "    </tr>\n",
       "    <tr>\n",
       "      <th>spider</th>\n",
       "      <td>8</td>\n",
       "      <td>0</td>\n",
       "      <td>1</td>\n",
       "    </tr>\n",
       "    <tr>\n",
       "      <th>fish</th>\n",
       "      <td>0</td>\n",
       "      <td>0</td>\n",
       "      <td>8</td>\n",
       "    </tr>\n",
       "  </tbody>\n",
       "</table>\n",
       "</div>"
      ],
      "text/plain": [
       "        num_legs  num_wings  num_specimen_seen\n",
       "falcon         2          2                 10\n",
       "dog            4          0                  2\n",
       "spider         8          0                  1\n",
       "fish           0          0                  8"
      ]
     },
     "execution_count": 5,
     "metadata": {},
     "output_type": "execute_result"
    }
   ],
   "source": [
    "df"
   ]
  },
  {
   "cell_type": "code",
   "execution_count": 7,
   "metadata": {},
   "outputs": [
    {
     "data": {
      "text/html": [
       "<div>\n",
       "<style scoped>\n",
       "    .dataframe tbody tr th:only-of-type {\n",
       "        vertical-align: middle;\n",
       "    }\n",
       "\n",
       "    .dataframe tbody tr th {\n",
       "        vertical-align: top;\n",
       "    }\n",
       "\n",
       "    .dataframe thead th {\n",
       "        text-align: right;\n",
       "    }\n",
       "</style>\n",
       "<table border=\"1\" class=\"dataframe\">\n",
       "  <thead>\n",
       "    <tr style=\"text-align: right;\">\n",
       "      <th></th>\n",
       "      <th>num_legs</th>\n",
       "      <th>num_wings</th>\n",
       "    </tr>\n",
       "  </thead>\n",
       "  <tbody>\n",
       "    <tr>\n",
       "      <th>falcon</th>\n",
       "      <td>2</td>\n",
       "      <td>2</td>\n",
       "    </tr>\n",
       "    <tr>\n",
       "      <th>dog</th>\n",
       "      <td>4</td>\n",
       "      <td>0</td>\n",
       "    </tr>\n",
       "    <tr>\n",
       "      <th>fish</th>\n",
       "      <td>0</td>\n",
       "      <td>0</td>\n",
       "    </tr>\n",
       "    <tr>\n",
       "      <th>spider</th>\n",
       "      <td>8</td>\n",
       "      <td>0</td>\n",
       "    </tr>\n",
       "  </tbody>\n",
       "</table>\n",
       "</div>"
      ],
      "text/plain": [
       "        num_legs  num_wings\n",
       "falcon         2          2\n",
       "dog            4          0\n",
       "fish           0          0\n",
       "spider         8          0"
      ]
     },
     "execution_count": 7,
     "metadata": {},
     "output_type": "execute_result"
    }
   ],
   "source": [
    "df[[\"num_legs\", \"num_wings\"]].sample(frac=1, replace=False)"
   ]
  },
  {
   "cell_type": "code",
   "execution_count": 8,
   "metadata": {},
   "outputs": [
    {
     "data": {
      "text/plain": [
       "array([0, 2, 4, 8])"
      ]
     },
     "execution_count": 8,
     "metadata": {},
     "output_type": "execute_result"
    }
   ],
   "source": [
    "np.unique(df[[\"num_legs\", \"num_wings\"]].values)"
   ]
  },
  {
   "cell_type": "code",
   "execution_count": 12,
   "metadata": {},
   "outputs": [
    {
     "data": {
      "text/plain": [
       "array([2, 4, 8, 0])"
      ]
     },
     "execution_count": 12,
     "metadata": {},
     "output_type": "execute_result"
    }
   ],
   "source": [
    "df[\"num_legs\"].unique()"
   ]
  },
  {
   "cell_type": "code",
   "execution_count": 15,
   "metadata": {},
   "outputs": [
    {
     "data": {
      "text/plain": [
       "array([[0., 0.]])"
      ]
     },
     "execution_count": 15,
     "metadata": {},
     "output_type": "execute_result"
    }
   ],
   "source": [
    "np.zeros((1,2))"
   ]
  },
  {
   "cell_type": "code",
   "execution_count": 19,
   "metadata": {},
   "outputs": [],
   "source": [
    "df.loc[:, [\"num_legs\", \"num_wings\"]] = np.zeros((2))"
   ]
  },
  {
   "cell_type": "code",
   "execution_count": 20,
   "metadata": {},
   "outputs": [
    {
     "data": {
      "text/html": [
       "<div>\n",
       "<style scoped>\n",
       "    .dataframe tbody tr th:only-of-type {\n",
       "        vertical-align: middle;\n",
       "    }\n",
       "\n",
       "    .dataframe tbody tr th {\n",
       "        vertical-align: top;\n",
       "    }\n",
       "\n",
       "    .dataframe thead th {\n",
       "        text-align: right;\n",
       "    }\n",
       "</style>\n",
       "<table border=\"1\" class=\"dataframe\">\n",
       "  <thead>\n",
       "    <tr style=\"text-align: right;\">\n",
       "      <th></th>\n",
       "      <th>num_legs</th>\n",
       "      <th>num_wings</th>\n",
       "      <th>num_specimen_seen</th>\n",
       "    </tr>\n",
       "  </thead>\n",
       "  <tbody>\n",
       "    <tr>\n",
       "      <th>falcon</th>\n",
       "      <td>0.0</td>\n",
       "      <td>0.0</td>\n",
       "      <td>10</td>\n",
       "    </tr>\n",
       "    <tr>\n",
       "      <th>dog</th>\n",
       "      <td>0.0</td>\n",
       "      <td>0.0</td>\n",
       "      <td>2</td>\n",
       "    </tr>\n",
       "    <tr>\n",
       "      <th>spider</th>\n",
       "      <td>0.0</td>\n",
       "      <td>0.0</td>\n",
       "      <td>1</td>\n",
       "    </tr>\n",
       "    <tr>\n",
       "      <th>fish</th>\n",
       "      <td>0.0</td>\n",
       "      <td>0.0</td>\n",
       "      <td>8</td>\n",
       "    </tr>\n",
       "  </tbody>\n",
       "</table>\n",
       "</div>"
      ],
      "text/plain": [
       "        num_legs  num_wings  num_specimen_seen\n",
       "falcon       0.0        0.0                 10\n",
       "dog          0.0        0.0                  2\n",
       "spider       0.0        0.0                  1\n",
       "fish         0.0        0.0                  8"
      ]
     },
     "execution_count": 20,
     "metadata": {},
     "output_type": "execute_result"
    }
   ],
   "source": [
    "df"
   ]
  },
  {
   "cell_type": "code",
   "execution_count": 23,
   "metadata": {},
   "outputs": [
    {
     "data": {
      "text/plain": [
       "3"
      ]
     },
     "execution_count": 23,
     "metadata": {},
     "output_type": "execute_result"
    }
   ],
   "source": [
    "len([1,2,3])"
   ]
  },
  {
   "cell_type": "code",
   "execution_count": 24,
   "metadata": {},
   "outputs": [
    {
     "data": {
      "text/plain": [
       "array([1, 1, 0, 1, 0, 0, 0, 0, 0, 0])"
      ]
     },
     "execution_count": 24,
     "metadata": {},
     "output_type": "execute_result"
    }
   ],
   "source": [
    "np.random.randint(2, size=10)"
   ]
  },
  {
   "cell_type": "code",
   "execution_count": 25,
   "metadata": {},
   "outputs": [
    {
     "data": {
      "text/plain": [
       "array([0])"
      ]
     },
     "execution_count": 25,
     "metadata": {},
     "output_type": "execute_result"
    }
   ],
   "source": [
    "np.random.randint(2, size=1)"
   ]
  },
  {
   "cell_type": "code",
   "execution_count": 28,
   "metadata": {},
   "outputs": [
    {
     "data": {
      "text/plain": [
       "9"
      ]
     },
     "execution_count": 28,
     "metadata": {},
     "output_type": "execute_result"
    }
   ],
   "source": [
    "np.random.randint(10, size=1)[0]"
   ]
  },
  {
   "cell_type": "code",
   "execution_count": null,
   "metadata": {},
   "outputs": [],
   "source": []
  }
 ],
 "metadata": {
  "kernelspec": {
   "display_name": "Python 3",
   "language": "python",
   "name": "python3"
  },
  "language_info": {
   "codemirror_mode": {
    "name": "ipython",
    "version": 3
   },
   "file_extension": ".py",
   "mimetype": "text/x-python",
   "name": "python",
   "nbconvert_exporter": "python",
   "pygments_lexer": "ipython3",
   "version": "3.6.8"
  }
 },
 "nbformat": 4,
 "nbformat_minor": 2
}
